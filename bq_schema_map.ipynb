{
  "nbformat": 4,
  "nbformat_minor": 0,
  "metadata": {
    "colab": {
      "name": "bq_schema_map.ipynb",
      "provenance": [],
      "collapsed_sections": [],
      "authorship_tag": "ABX9TyOq/mu0GZgq6HskBbIZf+vU",
      "include_colab_link": true
    },
    "kernelspec": {
      "name": "python3",
      "display_name": "Python 3"
    }
  },
  "cells": [
    {
      "cell_type": "markdown",
      "metadata": {
        "id": "view-in-github",
        "colab_type": "text"
      },
      "source": [
        "<a href=\"https://colab.research.google.com/github/Timurus/ABalytics/blob/master/bq_schema_map.ipynb\" target=\"_parent\"><img src=\"https://colab.research.google.com/assets/colab-badge.svg\" alt=\"Open In Colab\"/></a>"
      ]
    },
    {
      "cell_type": "code",
      "metadata": {
        "id": "heYSeWv3b_eS",
        "colab_type": "code",
        "colab": {
          "base_uri": "https://localhost:8080/",
          "height": 34
        },
        "outputId": "b9b55fa0-1fff-4605-fed8-0a70f9c40d10"
      },
      "source": [
        "from dateutil import parser\n",
        "d2 = [{\n",
        "    'string':'string_values',\n",
        "    'bool': 'True',\n",
        "    'array': ['foo', 'bar'],\n",
        "    'obj_name': {\n",
        "        \"obj_foo\": \"bar\",\n",
        "        'obj_in_obj_name': {\n",
        "            'obj_foo':'1',\n",
        "            'obj_number':'1'\n",
        "        }\n",
        "    }\n",
        "}]\n",
        "schema = {\n",
        "    \"string\": {\"type\": \"string\"},\n",
        "    'bool':{\"type\": \"boolean\"},\n",
        "    \"array\": {\"type\": \"array\", 'element_type': 'boolean'},\n",
        "    \"obj_name\": {\n",
        "        \"type\": \"object\",\n",
        "        \"properties\": {\n",
        "                \"obj_foo\": {\"type\": \"string\"},\n",
        "                \"obj_in_obj_name\": {\n",
        "                  \"type\": \"object\",\n",
        "                    \"properties\": {\n",
        "                \"obj_foo\": {\"type\": \"string\"},\n",
        "                \"obj_number\": {\"type\": \"integer\"},\n",
        "        }\n",
        "    }\n",
        "        }\n",
        "    }\n",
        "}\n",
        "\n",
        "\n",
        "# def dot_get(_dict, path, default=None):\n",
        "#     for key in path:\n",
        "#         try:\n",
        "#             _dict = _dict[key]\n",
        "#         except KeyError:\n",
        "#             return default\n",
        "\n",
        "from functools import reduce  # forward compatibility for Python 3\n",
        "import operator\n",
        "\n",
        "def get_by_path(root, items):\n",
        "    \"\"\"Access a nested object in root by item sequence.\"\"\"\n",
        "    assert type(items) == list\n",
        "    return reduce(operator.getitem, items, root)\n",
        "\n",
        "def set_by_path(root, items, value):\n",
        "    \"\"\"Set a value in a nested object in root by item sequence.\"\"\"\n",
        "    get_by_path(root, items[:-1])[items[-1]] = value\n",
        "\n",
        "def to_bq_format(val, bq_format):\n",
        "    bq_format = bq_format.upper()\n",
        "    if val == None:\n",
        "        val = None\n",
        "    elif bq_format == 'STRING':\n",
        "        val = str(val)\n",
        "    elif bq_format == 'BOOLEAN':\n",
        "        val = bool(val)\n",
        "    elif bq_format in ['INTEGER']:\n",
        "        val = int(val)\n",
        "    elif bq_format == 'FLOAT':\n",
        "        val = float(val)\n",
        "    elif bq_format == 'TIMESTAMP':\n",
        "        try:\n",
        "            val = parser.parse(val).strftime(\"%Y-%m-%d %H:%M:%S\")\n",
        "        except:\n",
        "            val = None\n",
        "    return val\n",
        "\n",
        "\n",
        "result = {}\n",
        "def walk_obj_by_shema(schema, obj, schema_path = [], path=[]):\n",
        "    for k, v in get_by_path(schema,schema_path).items():\n",
        "        z = 0\n",
        "        this_schema = get_by_path(schema,schema_path+[k])\n",
        "        schema_el_type = this_schema['type']\n",
        "        if schema_el_type == 'object':\n",
        "            new_path = path+[k]\n",
        "            new_shema_path = schema_path + [k, 'properties']\n",
        "            set_by_path(result, path+[k], {})\n",
        "\n",
        "            walk_obj_by_shema(schema, obj, new_shema_path, new_path)\n",
        "            return\n",
        "        else:\n",
        "            original_json_value = get_by_path(obj, path+[k])\n",
        "            if schema_el_type == 'array':\n",
        "              # assert type(original_json_value) in (int, float, bool, str), 'Dict in liss not suporte'\n",
        "\n",
        "              formatted_value = [to_bq_format(e, this_schema['element_type']) for e in original_json_value]\n",
        "            else:  \n",
        "              formatted_value = to_bq_format(original_json_value, schema_el_type)\n",
        "            set_by_path(result, path+[k], formatted_value)\n",
        "    print(result)        \n",
        "    return result\n",
        "\n",
        "\n",
        "walk_obj_by_shema(schema, d2[0] )\n",
        "\n"
      ],
      "execution_count": 57,
      "outputs": [
        {
          "output_type": "stream",
          "text": [
            "{'string': 'string_values', 'bool': True, 'array': [True, True], 'obj_name': {'obj_foo': 'bar', 'obj_in_obj_name': {'obj_foo': '1', 'obj_number': 1}}}\n"
          ],
          "name": "stdout"
        }
      ]
    }
  ]
}